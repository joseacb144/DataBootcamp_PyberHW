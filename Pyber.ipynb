{
 "cells": [
  {
   "cell_type": "code",
   "execution_count": 604,
   "metadata": {
    "collapsed": true
   },
   "outputs": [],
   "source": [
    "import matplotlib.pyplot as plot\n",
    "import pandas as pd\n",
    "import numpy as np"
   ]
  },
  {
   "cell_type": "code",
   "execution_count": 605,
   "metadata": {},
   "outputs": [
    {
     "data": {
      "text/html": [
       "<div>\n",
       "<style>\n",
       "    .dataframe thead tr:only-child th {\n",
       "        text-align: right;\n",
       "    }\n",
       "\n",
       "    .dataframe thead th {\n",
       "        text-align: left;\n",
       "    }\n",
       "\n",
       "    .dataframe tbody tr th {\n",
       "        vertical-align: top;\n",
       "    }\n",
       "</style>\n",
       "<table border=\"1\" class=\"dataframe\">\n",
       "  <thead>\n",
       "    <tr style=\"text-align: right;\">\n",
       "      <th></th>\n",
       "      <th>city</th>\n",
       "      <th>date</th>\n",
       "      <th>fare</th>\n",
       "      <th>ride_id</th>\n",
       "      <th>driver_count</th>\n",
       "      <th>type</th>\n",
       "    </tr>\n",
       "  </thead>\n",
       "  <tbody>\n",
       "    <tr>\n",
       "      <th>0</th>\n",
       "      <td>Sarabury</td>\n",
       "      <td>2016-01-16 13:49:27</td>\n",
       "      <td>38.35</td>\n",
       "      <td>5403689035038</td>\n",
       "      <td>46</td>\n",
       "      <td>Urban</td>\n",
       "    </tr>\n",
       "    <tr>\n",
       "      <th>1</th>\n",
       "      <td>South Roy</td>\n",
       "      <td>2016-01-02 18:42:34</td>\n",
       "      <td>17.49</td>\n",
       "      <td>4036272335942</td>\n",
       "      <td>35</td>\n",
       "      <td>Urban</td>\n",
       "    </tr>\n",
       "    <tr>\n",
       "      <th>2</th>\n",
       "      <td>Wiseborough</td>\n",
       "      <td>2016-01-21 17:35:29</td>\n",
       "      <td>44.18</td>\n",
       "      <td>3645042422587</td>\n",
       "      <td>55</td>\n",
       "      <td>Urban</td>\n",
       "    </tr>\n",
       "    <tr>\n",
       "      <th>3</th>\n",
       "      <td>Spencertown</td>\n",
       "      <td>2016-07-31 14:53:22</td>\n",
       "      <td>6.87</td>\n",
       "      <td>2242596575892</td>\n",
       "      <td>68</td>\n",
       "      <td>Urban</td>\n",
       "    </tr>\n",
       "    <tr>\n",
       "      <th>4</th>\n",
       "      <td>Nguyenbury</td>\n",
       "      <td>2016-07-09 04:42:44</td>\n",
       "      <td>6.28</td>\n",
       "      <td>1543057793673</td>\n",
       "      <td>8</td>\n",
       "      <td>Urban</td>\n",
       "    </tr>\n",
       "  </tbody>\n",
       "</table>\n",
       "</div>"
      ],
      "text/plain": [
       "          city                 date   fare        ride_id  driver_count   type\n",
       "0     Sarabury  2016-01-16 13:49:27  38.35  5403689035038            46  Urban\n",
       "1    South Roy  2016-01-02 18:42:34  17.49  4036272335942            35  Urban\n",
       "2  Wiseborough  2016-01-21 17:35:29  44.18  3645042422587            55  Urban\n",
       "3  Spencertown  2016-07-31 14:53:22   6.87  2242596575892            68  Urban\n",
       "4   Nguyenbury  2016-07-09 04:42:44   6.28  1543057793673             8  Urban"
      ]
     },
     "execution_count": 605,
     "metadata": {},
     "output_type": "execute_result"
    }
   ],
   "source": [
    "csv_city = \"raw_data/city_data.csv\"\n",
    "csv_ride = \"raw_data/ride_data.csv\"\n",
    "\n",
    "city_pd = pd.read_csv(csv_city)\n",
    "ride_pd = pd.read_csv(csv_ride)\n",
    "\n",
    "merged = pd.merge(ride_pd,city_pd, how=\"left\", on=[\"city\", \"city\"])\n",
    "merged.head()"
   ]
  },
  {
   "cell_type": "code",
   "execution_count": 606,
   "metadata": {},
   "outputs": [
    {
     "data": {
      "text/html": [
       "<div>\n",
       "<style>\n",
       "    .dataframe thead tr:only-child th {\n",
       "        text-align: right;\n",
       "    }\n",
       "\n",
       "    .dataframe thead th {\n",
       "        text-align: left;\n",
       "    }\n",
       "\n",
       "    .dataframe tbody tr th {\n",
       "        vertical-align: top;\n",
       "    }\n",
       "</style>\n",
       "<table border=\"1\" class=\"dataframe\">\n",
       "  <thead>\n",
       "    <tr style=\"text-align: right;\">\n",
       "      <th></th>\n",
       "      <th>city</th>\n",
       "      <th>date</th>\n",
       "      <th>fare</th>\n",
       "      <th>ride_id</th>\n",
       "      <th>driver_count</th>\n",
       "      <th>type</th>\n",
       "    </tr>\n",
       "  </thead>\n",
       "  <tbody>\n",
       "    <tr>\n",
       "      <th>2282</th>\n",
       "      <td>Horneland</td>\n",
       "      <td>2016-07-19 10:07:33</td>\n",
       "      <td>12.63</td>\n",
       "      <td>8214498891817</td>\n",
       "      <td>8</td>\n",
       "      <td>Rural</td>\n",
       "    </tr>\n",
       "    <tr>\n",
       "      <th>2283</th>\n",
       "      <td>Kinghaven</td>\n",
       "      <td>2016-05-18 23:28:12</td>\n",
       "      <td>20.53</td>\n",
       "      <td>6432117120069</td>\n",
       "      <td>3</td>\n",
       "      <td>Rural</td>\n",
       "    </tr>\n",
       "    <tr>\n",
       "      <th>2284</th>\n",
       "      <td>New Johnbury</td>\n",
       "      <td>2016-04-21 08:30:25</td>\n",
       "      <td>56.60</td>\n",
       "      <td>9002881309143</td>\n",
       "      <td>6</td>\n",
       "      <td>Rural</td>\n",
       "    </tr>\n",
       "    <tr>\n",
       "      <th>2285</th>\n",
       "      <td>South Joseph</td>\n",
       "      <td>2016-02-17 01:41:29</td>\n",
       "      <td>57.52</td>\n",
       "      <td>7365786843443</td>\n",
       "      <td>3</td>\n",
       "      <td>Rural</td>\n",
       "    </tr>\n",
       "    <tr>\n",
       "      <th>2286</th>\n",
       "      <td>Kennethburgh</td>\n",
       "      <td>2016-10-19 13:13:17</td>\n",
       "      <td>24.43</td>\n",
       "      <td>2728236352387</td>\n",
       "      <td>3</td>\n",
       "      <td>Rural</td>\n",
       "    </tr>\n",
       "  </tbody>\n",
       "</table>\n",
       "</div>"
      ],
      "text/plain": [
       "              city                 date   fare        ride_id  driver_count  \\\n",
       "2282     Horneland  2016-07-19 10:07:33  12.63  8214498891817             8   \n",
       "2283     Kinghaven  2016-05-18 23:28:12  20.53  6432117120069             3   \n",
       "2284  New Johnbury  2016-04-21 08:30:25  56.60  9002881309143             6   \n",
       "2285  South Joseph  2016-02-17 01:41:29  57.52  7365786843443             3   \n",
       "2286  Kennethburgh  2016-10-19 13:13:17  24.43  2728236352387             3   \n",
       "\n",
       "       type  \n",
       "2282  Rural  \n",
       "2283  Rural  \n",
       "2284  Rural  \n",
       "2285  Rural  \n",
       "2286  Rural  "
      ]
     },
     "execution_count": 606,
     "metadata": {},
     "output_type": "execute_result"
    }
   ],
   "source": [
    "urban = merged[merged['type'] == 'Urban']\n",
    "rural = merged[merged['type'] == 'Rural']\n",
    "suburban = merged[merged['type'] == 'Suburban']\n",
    "\n",
    "rural.head()"
   ]
  },
  {
   "cell_type": "code",
   "execution_count": 607,
   "metadata": {},
   "outputs": [
    {
     "data": {
      "text/html": [
       "<div>\n",
       "<style>\n",
       "    .dataframe thead tr:only-child th {\n",
       "        text-align: right;\n",
       "    }\n",
       "\n",
       "    .dataframe thead th {\n",
       "        text-align: left;\n",
       "    }\n",
       "\n",
       "    .dataframe tbody tr th {\n",
       "        vertical-align: top;\n",
       "    }\n",
       "</style>\n",
       "<table border=\"1\" class=\"dataframe\">\n",
       "  <thead>\n",
       "    <tr style=\"text-align: right;\">\n",
       "      <th></th>\n",
       "      <th>city</th>\n",
       "      <th>date</th>\n",
       "      <th>fare</th>\n",
       "      <th>ride_id</th>\n",
       "      <th>driver_count</th>\n",
       "      <th>type</th>\n",
       "    </tr>\n",
       "  </thead>\n",
       "  <tbody>\n",
       "    <tr>\n",
       "      <th>0</th>\n",
       "      <td>Sarabury</td>\n",
       "      <td>2016-01-16 13:49:27</td>\n",
       "      <td>38.35</td>\n",
       "      <td>5403689035038</td>\n",
       "      <td>46</td>\n",
       "      <td>Urban</td>\n",
       "    </tr>\n",
       "    <tr>\n",
       "      <th>1</th>\n",
       "      <td>South Roy</td>\n",
       "      <td>2016-01-02 18:42:34</td>\n",
       "      <td>17.49</td>\n",
       "      <td>4036272335942</td>\n",
       "      <td>35</td>\n",
       "      <td>Urban</td>\n",
       "    </tr>\n",
       "    <tr>\n",
       "      <th>2</th>\n",
       "      <td>Wiseborough</td>\n",
       "      <td>2016-01-21 17:35:29</td>\n",
       "      <td>44.18</td>\n",
       "      <td>3645042422587</td>\n",
       "      <td>55</td>\n",
       "      <td>Urban</td>\n",
       "    </tr>\n",
       "    <tr>\n",
       "      <th>3</th>\n",
       "      <td>Spencertown</td>\n",
       "      <td>2016-07-31 14:53:22</td>\n",
       "      <td>6.87</td>\n",
       "      <td>2242596575892</td>\n",
       "      <td>68</td>\n",
       "      <td>Urban</td>\n",
       "    </tr>\n",
       "    <tr>\n",
       "      <th>4</th>\n",
       "      <td>Nguyenbury</td>\n",
       "      <td>2016-07-09 04:42:44</td>\n",
       "      <td>6.28</td>\n",
       "      <td>1543057793673</td>\n",
       "      <td>8</td>\n",
       "      <td>Urban</td>\n",
       "    </tr>\n",
       "  </tbody>\n",
       "</table>\n",
       "</div>"
      ],
      "text/plain": [
       "          city                 date   fare        ride_id  driver_count   type\n",
       "0     Sarabury  2016-01-16 13:49:27  38.35  5403689035038            46  Urban\n",
       "1    South Roy  2016-01-02 18:42:34  17.49  4036272335942            35  Urban\n",
       "2  Wiseborough  2016-01-21 17:35:29  44.18  3645042422587            55  Urban\n",
       "3  Spencertown  2016-07-31 14:53:22   6.87  2242596575892            68  Urban\n",
       "4   Nguyenbury  2016-07-09 04:42:44   6.28  1543057793673             8  Urban"
      ]
     },
     "execution_count": 607,
     "metadata": {},
     "output_type": "execute_result"
    }
   ],
   "source": [
    "urban.head()"
   ]
  },
  {
   "cell_type": "code",
   "execution_count": 608,
   "metadata": {},
   "outputs": [
    {
     "data": {
      "text/html": [
       "<div>\n",
       "<style>\n",
       "    .dataframe thead tr:only-child th {\n",
       "        text-align: right;\n",
       "    }\n",
       "\n",
       "    .dataframe thead th {\n",
       "        text-align: left;\n",
       "    }\n",
       "\n",
       "    .dataframe tbody tr th {\n",
       "        vertical-align: top;\n",
       "    }\n",
       "</style>\n",
       "<table border=\"1\" class=\"dataframe\">\n",
       "  <thead>\n",
       "    <tr style=\"text-align: right;\">\n",
       "      <th></th>\n",
       "      <th>city</th>\n",
       "      <th>date</th>\n",
       "      <th>fare</th>\n",
       "      <th>ride_id</th>\n",
       "      <th>driver_count</th>\n",
       "      <th>type</th>\n",
       "    </tr>\n",
       "  </thead>\n",
       "  <tbody>\n",
       "    <tr>\n",
       "      <th>1625</th>\n",
       "      <td>Port James</td>\n",
       "      <td>2016-12-04 06:16:36</td>\n",
       "      <td>15.77</td>\n",
       "      <td>2259499336994</td>\n",
       "      <td>15</td>\n",
       "      <td>Suburban</td>\n",
       "    </tr>\n",
       "    <tr>\n",
       "      <th>1626</th>\n",
       "      <td>Port James</td>\n",
       "      <td>2016-12-04 06:16:36</td>\n",
       "      <td>15.77</td>\n",
       "      <td>2259499336994</td>\n",
       "      <td>3</td>\n",
       "      <td>Suburban</td>\n",
       "    </tr>\n",
       "    <tr>\n",
       "      <th>1627</th>\n",
       "      <td>New Samanthaside</td>\n",
       "      <td>2016-06-05 14:36:58</td>\n",
       "      <td>39.38</td>\n",
       "      <td>3647873452658</td>\n",
       "      <td>16</td>\n",
       "      <td>Suburban</td>\n",
       "    </tr>\n",
       "    <tr>\n",
       "      <th>1628</th>\n",
       "      <td>Port Alexandria</td>\n",
       "      <td>2016-07-29 09:30:09</td>\n",
       "      <td>24.86</td>\n",
       "      <td>2962960319234</td>\n",
       "      <td>27</td>\n",
       "      <td>Suburban</td>\n",
       "    </tr>\n",
       "    <tr>\n",
       "      <th>1629</th>\n",
       "      <td>Lake Brenda</td>\n",
       "      <td>2016-08-26 03:07:30</td>\n",
       "      <td>20.97</td>\n",
       "      <td>5231983896020</td>\n",
       "      <td>24</td>\n",
       "      <td>Suburban</td>\n",
       "    </tr>\n",
       "  </tbody>\n",
       "</table>\n",
       "</div>"
      ],
      "text/plain": [
       "                  city                 date   fare        ride_id  \\\n",
       "1625        Port James  2016-12-04 06:16:36  15.77  2259499336994   \n",
       "1626        Port James  2016-12-04 06:16:36  15.77  2259499336994   \n",
       "1627  New Samanthaside  2016-06-05 14:36:58  39.38  3647873452658   \n",
       "1628   Port Alexandria  2016-07-29 09:30:09  24.86  2962960319234   \n",
       "1629       Lake Brenda  2016-08-26 03:07:30  20.97  5231983896020   \n",
       "\n",
       "      driver_count      type  \n",
       "1625            15  Suburban  \n",
       "1626             3  Suburban  \n",
       "1627            16  Suburban  \n",
       "1628            27  Suburban  \n",
       "1629            24  Suburban  "
      ]
     },
     "execution_count": 608,
     "metadata": {},
     "output_type": "execute_result"
    }
   ],
   "source": [
    "suburban.head()"
   ]
  },
  {
   "cell_type": "code",
   "execution_count": 609,
   "metadata": {},
   "outputs": [
    {
     "data": {
      "text/plain": [
       "city\n",
       "Alvarezhaven    21.0\n",
       "Alyssaberg      67.0\n",
       "Antoniomouth    21.0\n",
       "Aprilchester    49.0\n",
       "Arnoldview      41.0\n",
       "Name: driver_count, dtype: float64"
      ]
     },
     "execution_count": 609,
     "metadata": {},
     "output_type": "execute_result"
    }
   ],
   "source": [
    "# Get ride count, driver count, and average for Urban cities\n",
    "ridecount_urban = urban.groupby(['city']).count()['ride_id']\n",
    "average_urban = urban.groupby(['city']).mean()['fare']\n",
    "drivercount_urban = urban.groupby(['city']).mean()['driver_count']\n",
    "\n",
    "# Change to get the other results (i.e. average_urban & drivercount_urban)\n",
    "drivercount_urban.head()"
   ]
  },
  {
   "cell_type": "code",
   "execution_count": 610,
   "metadata": {},
   "outputs": [
    {
     "data": {
      "text/plain": [
       "city\n",
       "East Leslie        9.0\n",
       "East Stephen       6.0\n",
       "East Troybury      3.0\n",
       "Erikport           3.0\n",
       "Hernandezshire    10.0\n",
       "Name: driver_count, dtype: float64"
      ]
     },
     "execution_count": 610,
     "metadata": {},
     "output_type": "execute_result"
    }
   ],
   "source": [
    "# Get ride count, driver count, and average for Rural cities (Copy and paste above, replace Urban with Rural)\n",
    "ridecount_rural = rural.groupby(['city']).count()['ride_id']\n",
    "average_rural = rural.groupby(['city']).mean()['fare']\n",
    "drivercount_rural = rural.groupby(['city']).mean()['driver_count']\n",
    "\n",
    "# Change to get the other results (i.e. ridecount_rural & drivercount_rural)\n",
    "drivercount_rural.head()"
   ]
  },
  {
   "cell_type": "code",
   "execution_count": 611,
   "metadata": {},
   "outputs": [
    {
     "data": {
      "text/plain": [
       "city\n",
       "Anitamouth      16.0\n",
       "Campbellport    26.0\n",
       "Carrollbury      4.0\n",
       "Clarkstad       21.0\n",
       "Conwaymouth     18.0\n",
       "Name: driver_count, dtype: float64"
      ]
     },
     "execution_count": 611,
     "metadata": {},
     "output_type": "execute_result"
    }
   ],
   "source": [
    "# Get ride count, driver count, and average for Suburban cities (Copy and paste above, replace Rural with Suburban)\n",
    "ridecount_suburban = suburban.groupby(['city']).count()['ride_id']\n",
    "average_suburban = suburban.groupby(['city']).mean()['fare']\n",
    "drivercount_suburban = suburban.groupby(['city']).mean()['driver_count']\n",
    "\n",
    "# Change to get the other results (i.e. ridecount_suburban & drivercount_suburban)\n",
    "drivercount_suburban.head()"
   ]
  },
  {
   "cell_type": "code",
   "execution_count": 612,
   "metadata": {},
   "outputs": [
    {
     "data": {
      "text/plain": [
       "<matplotlib.collections.PathCollection at 0xffcc908>"
      ]
     },
     "execution_count": 612,
     "metadata": {},
     "output_type": "execute_result"
    }
   ],
   "source": [
    "#Uban Scatter plot\n",
    "plot.scatter(ridecount_urban, average_urban, s=10*drivercount_urban, c=\"coral\", edgecolor=\"black\", linewidths=1, marker=\"o\", \n",
    "            alpha=0.8, label=\"Urban\")"
   ]
  },
  {
   "cell_type": "code",
   "execution_count": 613,
   "metadata": {},
   "outputs": [
    {
     "data": {
      "text/plain": [
       "<matplotlib.collections.PathCollection at 0xe325908>"
      ]
     },
     "execution_count": 613,
     "metadata": {},
     "output_type": "execute_result"
    }
   ],
   "source": [
    "#Rural Scatter plot\n",
    "plot.scatter(ridecount_rural, average_rural, s=10*drivercount_rural, c=\"gold\", edgecolor=\"black\", linewidths=1, marker=\"o\", \n",
    "            alpha=0.8, label=\"Rural\")"
   ]
  },
  {
   "cell_type": "code",
   "execution_count": 614,
   "metadata": {},
   "outputs": [
    {
     "data": {
      "text/plain": [
       "<matplotlib.collections.PathCollection at 0xffd8668>"
      ]
     },
     "execution_count": 614,
     "metadata": {},
     "output_type": "execute_result"
    }
   ],
   "source": [
    "# Suburban Scatter plot\n",
    "plot.scatter(ridecount_suburban, average_suburban, s=10*drivercount_suburban, c=\"skyblue\", edgecolor=\"black\", linewidths=1, \n",
    "            marker=\"o\", alpha=0.8, label=\"Suburban\")"
   ]
  },
  {
   "cell_type": "code",
   "execution_count": 615,
   "metadata": {},
   "outputs": [],
   "source": [
    "# Graph labels\n",
    "plot.title(\"Pyber Data 2016\")\n",
    "plot.ylabel(\"Average Fare\")\n",
    "plot.xlabel(\"Total Rides (City)\")\n",
    "plot.xlim((0,50))\n",
    "plot.grid(True)"
   ]
  },
  {
   "cell_type": "code",
   "execution_count": 616,
   "metadata": {},
   "outputs": [],
   "source": [
    "# Create a legend\n",
    "lgnd = plot.legend(fontsize=\"small\", mode=\"Expanded\", numpoints=1, scatterpoints=1, loc=\"best\", title=\"City Types\",\n",
    "                   labelspacing=0.5)\n",
    "lgnd.legendHandles[0]._sizes = [30]\n",
    "lgnd.legendHandles[1]._sizes = [30]\n",
    "lgnd.legendHandles[2]._sizes = [30]"
   ]
  },
  {
   "cell_type": "code",
   "execution_count": 617,
   "metadata": {
    "collapsed": true
   },
   "outputs": [],
   "source": [
    "# Save scatter plot  (Save scatter plot before showing, or nothing will save)\n",
    "plot.savefig(\"charts/scatterplot.png\")"
   ]
  },
  {
   "cell_type": "code",
   "execution_count": 618,
   "metadata": {},
   "outputs": [
    {
     "data": {
      "image/png": "[encoded data removed]",
      "text/plain": [
       "<matplotlib.figure.Figure at 0xfeadda0>"
      ]
     },
     "metadata": {},
     "output_type": "display_data"
    }
   ],
   "source": [
    "plot.show()"
   ]
  },
  {
   "cell_type": "code",
   "execution_count": 619,
   "metadata": {},
   "outputs": [
    {
     "data": {
      "image/png": "[encoded data removed]",
      "text/plain": [
       "<matplotlib.figure.Figure at 0xf8b78d0>"
      ]
     },
     "metadata": {},
     "output_type": "display_data"
    }
   ],
   "source": [
    "# % of Total Fare by City Type\n",
    "percentage_by_type = 100 * merged.groupby(['type']).sum()['fare'] / merged['fare'].sum()\n",
    "\n",
    "# Pie chart\n",
    "plot.title('% of Total Fare by City Type')\n",
    "plot.pie(percentage_by_type, labels=['Rural','Suburban','Urban'], colors=['gold','skyblue','coral'], explode=[0,0,0.2],\n",
    "        autopct='%1.1f%%', shadow=True, startangle=120)\n",
    "\n",
    "#Save before showing\n",
    "plot.savefig('charts/faresByCity.png')\n",
    "plot.show()"
   ]
  },
  {
   "cell_type": "code",
   "execution_count": 620,
   "metadata": {},
   "outputs": [
    {
     "data": {
      "image/png": "[encoded data removed]",
      "text/plain": [
       "<matplotlib.figure.Figure at 0xff88e48>"
      ]
     },
     "metadata": {},
     "output_type": "display_data"
    }
   ],
   "source": [
    "# % of Total Rides by City Type\n",
    "percentage_rides = 100 * merged.groupby(['type']).count()['ride_id'] / merged['ride_id'].count()\n",
    "\n",
    "# Pie chart\n",
    "plot.title('% of Total Rides by City Type')\n",
    "plot.pie(percentage_rides, labels=['Rural','Suburban','Urban'], colors=['gold','skyblue','coral'], explode=[0,0,0.2],\n",
    "        autopct='%1.1f%%', shadow=True, startangle=120)\n",
    "\n",
    "# Save before showing\n",
    "plot.savefig('charts/ridesByCity.png')\n",
    "plot.show()"
   ]
  },
  {
   "cell_type": "code",
   "execution_count": 621,
   "metadata": {},
   "outputs": [
    {
     "data": {
      "image/png": "[encoded data removed]",
      "text/plain": [
       "<matplotlib.figure.Figure at 0xfb0ce80>"
      ]
     },
     "metadata": {},
     "output_type": "display_data"
    }
   ],
   "source": [
    "# % of Total Drivers by City Type\n",
    "percentage_drivers = 100 * merged.groupby(['type']).sum()['driver_count'] / city_pd['driver_count'].sum()\n",
    "\n",
    "# Pie Chart\n",
    "plot.title('% of Total Drivers by City Type')\n",
    "plot.pie(percentage_drivers, labels=['Rural','Suburban','Urban'], colors=['gold','skyblue','coral'], explode=[0,0,0.2],\n",
    "        autopct='%1.1f%%', shadow=True, startangle=120)\n",
    "\n",
    "# Save before showing\n",
    "plot.savefig('charts/driversByCity.png')\n",
    "plot.show()"
   ]
  },
  {
   "cell_type": "code",
   "execution_count": null,
   "metadata": {
    "collapsed": true
   },
   "outputs": [],
   "source": []
  }
 ],
 "metadata": {
  "kernelspec": {
   "display_name": "Python 3",
   "language": "python",
   "name": "python3"
  },
  "language_info": {
   "codemirror_mode": {
    "name": "ipython",
    "version": 3
   },
   "file_extension": ".py",
   "mimetype": "text/x-python",
   "name": "python",
   "nbconvert_exporter": "python",
   "pygments_lexer": "ipython3",
   "version": "3.6.2"
  }
 },
 "nbformat": 4,
 "nbformat_minor": 2
}
